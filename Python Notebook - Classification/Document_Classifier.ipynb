{
 "cells": [
  {
   "cell_type": "markdown",
   "metadata": {},
   "source": [
    "<center><h2><font face=\"Georgia\" color=\"#33A1C9\"> Heavy Water: Classification Test </font></h2>\n",
    "<h5><font face=\"Georgia\"> Submitted by - Saurabh Shertukde (sshertuk@andrew.cmu.edu) </font></h5></center>"
   ]
  },
  {
   "cell_type": "markdown",
   "metadata": {},
   "source": [
    "##### Import required libraries"
   ]
  },
  {
   "cell_type": "code",
   "execution_count": 1,
   "metadata": {},
   "outputs": [],
   "source": [
    "# import libraries required for computations\n",
    "import pandas as pd\n",
    "import numpy as np\n",
    "import time\n",
    "import pickle as pkl\n",
    "\n",
    "#import libraries required for building prediction models\n",
    "from sklearn.model_selection import train_test_split\n",
    "from sklearn.feature_extraction.text import CountVectorizer\n",
    "from sklearn.feature_extraction.text import TfidfTransformer\n",
    "from sklearn.linear_model import LogisticRegression\n",
    "from sklearn import metrics\n",
    "\n",
    "# Import libraries required for plotting graphs\n",
    "from termcolor import colored\n",
    "import matplotlib.pyplot as plt\n",
    "%matplotlib inline\n",
    "\n",
    "import warnings\n",
    "warnings.filterwarnings('ignore')"
   ]
  },
  {
   "cell_type": "markdown",
   "metadata": {},
   "source": [
    "##### Function to print values"
   ]
  },
  {
   "cell_type": "code",
   "execution_count": 2,
   "metadata": {
    "collapsed": true
   },
   "outputs": [],
   "source": [
    "# define a function to print values to console\n",
    "def printVals(x, y):\n",
    "    text = colored(x,'blue')\n",
    "    val = colored(y, 'green')\n",
    "    print (text, val)"
   ]
  },
  {
   "cell_type": "markdown",
   "metadata": {},
   "source": [
    "##### Load the dataset"
   ]
  },
  {
   "cell_type": "code",
   "execution_count": 3,
   "metadata": {},
   "outputs": [
    {
     "data": {
      "text/plain": [
       "(62204, 2)"
      ]
     },
     "execution_count": 3,
     "metadata": {},
     "output_type": "execute_result"
    }
   ],
   "source": [
    "df = pd.read_csv(\"shuffled-full-set-hashed.csv\", names = ['Category', 'Content'])\n",
    "\n",
    "df.shape"
   ]
  },
  {
   "cell_type": "code",
   "execution_count": 4,
   "metadata": {
    "scrolled": true
   },
   "outputs": [
    {
     "data": {
      "text/html": [
       "<div>\n",
       "<style>\n",
       "    .dataframe thead tr:only-child th {\n",
       "        text-align: right;\n",
       "    }\n",
       "\n",
       "    .dataframe thead th {\n",
       "        text-align: left;\n",
       "    }\n",
       "\n",
       "    .dataframe tbody tr th {\n",
       "        vertical-align: top;\n",
       "    }\n",
       "</style>\n",
       "<table border=\"1\" class=\"dataframe\">\n",
       "  <thead>\n",
       "    <tr style=\"text-align: right;\">\n",
       "      <th></th>\n",
       "      <th>Category</th>\n",
       "      <th>Content</th>\n",
       "    </tr>\n",
       "  </thead>\n",
       "  <tbody>\n",
       "    <tr>\n",
       "      <th>0</th>\n",
       "      <td>DELETION OF INTEREST</td>\n",
       "      <td>e04a09c87692 d6b72e591b91 5d066f0246f1 ed41171...</td>\n",
       "    </tr>\n",
       "    <tr>\n",
       "      <th>1</th>\n",
       "      <td>RETURNED CHECK</td>\n",
       "      <td>a3b334c6eefd be95012ebf2b 41d67080e078 ff1c26e...</td>\n",
       "    </tr>\n",
       "    <tr>\n",
       "      <th>2</th>\n",
       "      <td>BILL</td>\n",
       "      <td>586242498a88 9ccf259ca087 54709b24b45f 6bf9c0c...</td>\n",
       "    </tr>\n",
       "    <tr>\n",
       "      <th>3</th>\n",
       "      <td>BILL</td>\n",
       "      <td>cd50e861f48b 6ca2dd348663 d38820625542 f077614...</td>\n",
       "    </tr>\n",
       "    <tr>\n",
       "      <th>4</th>\n",
       "      <td>BILL</td>\n",
       "      <td>9db5536263d8 1c303d15eb65 3f89b4673455 b73e657...</td>\n",
       "    </tr>\n",
       "  </tbody>\n",
       "</table>\n",
       "</div>"
      ],
      "text/plain": [
       "               Category                                            Content\n",
       "0  DELETION OF INTEREST  e04a09c87692 d6b72e591b91 5d066f0246f1 ed41171...\n",
       "1        RETURNED CHECK  a3b334c6eefd be95012ebf2b 41d67080e078 ff1c26e...\n",
       "2                  BILL  586242498a88 9ccf259ca087 54709b24b45f 6bf9c0c...\n",
       "3                  BILL  cd50e861f48b 6ca2dd348663 d38820625542 f077614...\n",
       "4                  BILL  9db5536263d8 1c303d15eb65 3f89b4673455 b73e657..."
      ]
     },
     "execution_count": 4,
     "metadata": {},
     "output_type": "execute_result"
    }
   ],
   "source": [
    "df.head(5)"
   ]
  },
  {
   "cell_type": "markdown",
   "metadata": {},
   "source": [
    "<h3><font face=\"Georgia\" color=\"#00E5EE\"><center>Data Exploration & Wrangling</center></font></h3>"
   ]
  },
  {
   "cell_type": "markdown",
   "metadata": {},
   "source": [
    "#### Deduplication"
   ]
  },
  {
   "cell_type": "code",
   "execution_count": 5,
   "metadata": {},
   "outputs": [
    {
     "data": {
      "text/plain": [
       "False    60548\n",
       "True      1656\n",
       "dtype: int64"
      ]
     },
     "execution_count": 5,
     "metadata": {},
     "output_type": "execute_result"
    }
   ],
   "source": [
    "df.duplicated().value_counts()"
   ]
  },
  {
   "cell_type": "code",
   "execution_count": 6,
   "metadata": {
    "collapsed": true
   },
   "outputs": [],
   "source": [
    "df.drop_duplicates(keep='first', inplace=True)"
   ]
  },
  {
   "cell_type": "markdown",
   "metadata": {},
   "source": [
    "#### Check Missing Values"
   ]
  },
  {
   "cell_type": "code",
   "execution_count": 7,
   "metadata": {},
   "outputs": [
    {
     "data": {
      "text/plain": [
       "Category    0\n",
       "Content     6\n",
       "dtype: int64"
      ]
     },
     "execution_count": 7,
     "metadata": {},
     "output_type": "execute_result"
    }
   ],
   "source": [
    "#check null values per column/attribute\n",
    "df.isnull().sum()"
   ]
  },
  {
   "cell_type": "code",
   "execution_count": 8,
   "metadata": {
    "collapsed": true
   },
   "outputs": [],
   "source": [
    "df.dropna(inplace=True)"
   ]
  },
  {
   "cell_type": "code",
   "execution_count": 9,
   "metadata": {},
   "outputs": [
    {
     "data": {
      "text/plain": [
       "(60542, 2)"
      ]
     },
     "execution_count": 9,
     "metadata": {},
     "output_type": "execute_result"
    }
   ],
   "source": [
    "#final record count after cleaning\n",
    "df.shape"
   ]
  },
  {
   "cell_type": "markdown",
   "metadata": {},
   "source": [
    "#### Explore the Target"
   ]
  },
  {
   "cell_type": "code",
   "execution_count": 10,
   "metadata": {
    "scrolled": true
   },
   "outputs": [
    {
     "data": {
      "text/plain": [
       "BILL                       18449\n",
       "POLICY CHANGE              10229\n",
       "CANCELLATION NOTICE         9571\n",
       "BINDER                      8590\n",
       "DELETION OF INTEREST        4779\n",
       "REINSTATEMENT NOTICE        4295\n",
       "DECLARATION                  966\n",
       "CHANGE ENDORSEMENT           866\n",
       "RETURNED CHECK               730\n",
       "EXPIRATION NOTICE            719\n",
       "NON-RENEWAL NOTICE           618\n",
       "BILL BINDER                  277\n",
       "INTENT TO CANCEL NOTICE      227\n",
       "APPLICATION                  226\n",
       "Name: Category, dtype: int64"
      ]
     },
     "execution_count": 10,
     "metadata": {},
     "output_type": "execute_result"
    }
   ],
   "source": [
    "df['Category'].value_counts()"
   ]
  },
  {
   "cell_type": "code",
   "execution_count": 11,
   "metadata": {},
   "outputs": [
    {
     "data": {
      "text/plain": [
       "<matplotlib.figure.Figure at 0x21aecbebac8>"
      ]
     },
     "metadata": {},
     "output_type": "display_data"
    },
    {
     "data": {
      "image/png": "[encoded data removed]",
      "text/plain": [
       "<matplotlib.figure.Figure at 0x21a8dd7b0b8>"
      ]
     },
     "metadata": {},
     "output_type": "display_data"
    }
   ],
   "source": [
    "fig = plt.figure(figsize=(8,6))\n",
    "\n",
    "df.groupby('Category').count().plot.bar(ylim=0)\n",
    "\n",
    "plt.show()"
   ]
  },
  {
   "cell_type": "markdown",
   "metadata": {},
   "source": [
    "Given the clear imbalance in data, we will oversample the data before modeling."
   ]
  },
  {
   "cell_type": "markdown",
   "metadata": {},
   "source": [
    "#### Factorize the Categories"
   ]
  },
  {
   "cell_type": "code",
   "execution_count": 12,
   "metadata": {},
   "outputs": [
    {
     "data": {
      "text/html": [
       "<div>\n",
       "<style>\n",
       "    .dataframe thead tr:only-child th {\n",
       "        text-align: right;\n",
       "    }\n",
       "\n",
       "    .dataframe thead th {\n",
       "        text-align: left;\n",
       "    }\n",
       "\n",
       "    .dataframe tbody tr th {\n",
       "        vertical-align: top;\n",
       "    }\n",
       "</style>\n",
       "<table border=\"1\" class=\"dataframe\">\n",
       "  <thead>\n",
       "    <tr style=\"text-align: right;\">\n",
       "      <th></th>\n",
       "      <th>Category</th>\n",
       "      <th>Content</th>\n",
       "      <th>Label</th>\n",
       "    </tr>\n",
       "  </thead>\n",
       "  <tbody>\n",
       "    <tr>\n",
       "      <th>0</th>\n",
       "      <td>DELETION OF INTEREST</td>\n",
       "      <td>e04a09c87692 d6b72e591b91 5d066f0246f1 ed41171...</td>\n",
       "      <td>0</td>\n",
       "    </tr>\n",
       "    <tr>\n",
       "      <th>1</th>\n",
       "      <td>RETURNED CHECK</td>\n",
       "      <td>a3b334c6eefd be95012ebf2b 41d67080e078 ff1c26e...</td>\n",
       "      <td>1</td>\n",
       "    </tr>\n",
       "    <tr>\n",
       "      <th>2</th>\n",
       "      <td>BILL</td>\n",
       "      <td>586242498a88 9ccf259ca087 54709b24b45f 6bf9c0c...</td>\n",
       "      <td>2</td>\n",
       "    </tr>\n",
       "    <tr>\n",
       "      <th>3</th>\n",
       "      <td>BILL</td>\n",
       "      <td>cd50e861f48b 6ca2dd348663 d38820625542 f077614...</td>\n",
       "      <td>2</td>\n",
       "    </tr>\n",
       "    <tr>\n",
       "      <th>4</th>\n",
       "      <td>BILL</td>\n",
       "      <td>9db5536263d8 1c303d15eb65 3f89b4673455 b73e657...</td>\n",
       "      <td>2</td>\n",
       "    </tr>\n",
       "  </tbody>\n",
       "</table>\n",
       "</div>"
      ],
      "text/plain": [
       "               Category                                            Content  \\\n",
       "0  DELETION OF INTEREST  e04a09c87692 d6b72e591b91 5d066f0246f1 ed41171...   \n",
       "1        RETURNED CHECK  a3b334c6eefd be95012ebf2b 41d67080e078 ff1c26e...   \n",
       "2                  BILL  586242498a88 9ccf259ca087 54709b24b45f 6bf9c0c...   \n",
       "3                  BILL  cd50e861f48b 6ca2dd348663 d38820625542 f077614...   \n",
       "4                  BILL  9db5536263d8 1c303d15eb65 3f89b4673455 b73e657...   \n",
       "\n",
       "   Label  \n",
       "0      0  \n",
       "1      1  \n",
       "2      2  \n",
       "3      2  \n",
       "4      2  "
      ]
     },
     "execution_count": 12,
     "metadata": {},
     "output_type": "execute_result"
    }
   ],
   "source": [
    "#encode labels to numeric so that each number corresponds to a document class\n",
    "df['Label'] = df['Category'].factorize()[0]\n",
    "df.head(5)"
   ]
  },
  {
   "cell_type": "code",
   "execution_count": 13,
   "metadata": {},
   "outputs": [
    {
     "data": {
      "text/html": [
       "<div>\n",
       "<style>\n",
       "    .dataframe thead tr:only-child th {\n",
       "        text-align: right;\n",
       "    }\n",
       "\n",
       "    .dataframe thead th {\n",
       "        text-align: left;\n",
       "    }\n",
       "\n",
       "    .dataframe tbody tr th {\n",
       "        vertical-align: top;\n",
       "    }\n",
       "</style>\n",
       "<table border=\"1\" class=\"dataframe\">\n",
       "  <thead>\n",
       "    <tr style=\"text-align: right;\">\n",
       "      <th></th>\n",
       "      <th>Category</th>\n",
       "      <th>Label</th>\n",
       "    </tr>\n",
       "  </thead>\n",
       "  <tbody>\n",
       "    <tr>\n",
       "      <th>0</th>\n",
       "      <td>DELETION OF INTEREST</td>\n",
       "      <td>0</td>\n",
       "    </tr>\n",
       "    <tr>\n",
       "      <th>1</th>\n",
       "      <td>RETURNED CHECK</td>\n",
       "      <td>1</td>\n",
       "    </tr>\n",
       "    <tr>\n",
       "      <th>2</th>\n",
       "      <td>BILL</td>\n",
       "      <td>2</td>\n",
       "    </tr>\n",
       "    <tr>\n",
       "      <th>5</th>\n",
       "      <td>POLICY CHANGE</td>\n",
       "      <td>3</td>\n",
       "    </tr>\n",
       "    <tr>\n",
       "      <th>8</th>\n",
       "      <td>CANCELLATION NOTICE</td>\n",
       "      <td>4</td>\n",
       "    </tr>\n",
       "    <tr>\n",
       "      <th>15</th>\n",
       "      <td>DECLARATION</td>\n",
       "      <td>5</td>\n",
       "    </tr>\n",
       "    <tr>\n",
       "      <th>18</th>\n",
       "      <td>CHANGE ENDORSEMENT</td>\n",
       "      <td>6</td>\n",
       "    </tr>\n",
       "    <tr>\n",
       "      <th>19</th>\n",
       "      <td>NON-RENEWAL NOTICE</td>\n",
       "      <td>7</td>\n",
       "    </tr>\n",
       "    <tr>\n",
       "      <th>20</th>\n",
       "      <td>BINDER</td>\n",
       "      <td>8</td>\n",
       "    </tr>\n",
       "    <tr>\n",
       "      <th>29</th>\n",
       "      <td>REINSTATEMENT NOTICE</td>\n",
       "      <td>9</td>\n",
       "    </tr>\n",
       "    <tr>\n",
       "      <th>69</th>\n",
       "      <td>EXPIRATION NOTICE</td>\n",
       "      <td>10</td>\n",
       "    </tr>\n",
       "    <tr>\n",
       "      <th>174</th>\n",
       "      <td>INTENT TO CANCEL NOTICE</td>\n",
       "      <td>11</td>\n",
       "    </tr>\n",
       "    <tr>\n",
       "      <th>202</th>\n",
       "      <td>APPLICATION</td>\n",
       "      <td>12</td>\n",
       "    </tr>\n",
       "    <tr>\n",
       "      <th>391</th>\n",
       "      <td>BILL BINDER</td>\n",
       "      <td>13</td>\n",
       "    </tr>\n",
       "  </tbody>\n",
       "</table>\n",
       "</div>"
      ],
      "text/plain": [
       "                    Category  Label\n",
       "0       DELETION OF INTEREST      0\n",
       "1             RETURNED CHECK      1\n",
       "2                       BILL      2\n",
       "5              POLICY CHANGE      3\n",
       "8        CANCELLATION NOTICE      4\n",
       "15               DECLARATION      5\n",
       "18        CHANGE ENDORSEMENT      6\n",
       "19        NON-RENEWAL NOTICE      7\n",
       "20                    BINDER      8\n",
       "29      REINSTATEMENT NOTICE      9\n",
       "69         EXPIRATION NOTICE     10\n",
       "174  INTENT TO CANCEL NOTICE     11\n",
       "202              APPLICATION     12\n",
       "391              BILL BINDER     13"
      ]
     },
     "execution_count": 13,
     "metadata": {},
     "output_type": "execute_result"
    }
   ],
   "source": [
    "category_id_df = df[['Category', 'Label']].drop_duplicates().sort_values('Label')\n",
    "category_id_df"
   ]
  },
  {
   "cell_type": "code",
   "execution_count": 14,
   "metadata": {},
   "outputs": [
    {
     "data": {
      "text/plain": [
       "{0: 'DELETION OF INTEREST',\n",
       " 1: 'RETURNED CHECK',\n",
       " 2: 'BILL',\n",
       " 3: 'POLICY CHANGE',\n",
       " 4: 'CANCELLATION NOTICE',\n",
       " 5: 'DECLARATION',\n",
       " 6: 'CHANGE ENDORSEMENT',\n",
       " 7: 'NON-RENEWAL NOTICE',\n",
       " 8: 'BINDER',\n",
       " 9: 'REINSTATEMENT NOTICE',\n",
       " 10: 'EXPIRATION NOTICE',\n",
       " 11: 'INTENT TO CANCEL NOTICE',\n",
       " 12: 'APPLICATION',\n",
       " 13: 'BILL BINDER'}"
      ]
     },
     "execution_count": 14,
     "metadata": {},
     "output_type": "execute_result"
    }
   ],
   "source": [
    "#create a utility map for future prediction purposes\n",
    "category_to_id = dict(category_id_df.values)\n",
    "\n",
    "id_to_category = dict(category_id_df[['Label', 'Category']].values)\n",
    "id_to_category"
   ]
  },
  {
   "cell_type": "markdown",
   "metadata": {},
   "source": [
    "<h3><font face=\"Georgia\" color=\"#00E5EE\"><center>Data Modeling</center></font></h3>"
   ]
  },
  {
   "cell_type": "markdown",
   "metadata": {},
   "source": [
    "#### Create the Test, Training and Validation Sets"
   ]
  },
  {
   "cell_type": "code",
   "execution_count": 15,
   "metadata": {},
   "outputs": [],
   "source": [
    "# SPLIT TRAIN AND TEST SETS\n",
    "mask = np.random.rand(len(df)) < 0.9\n",
    "\n",
    "train = df[mask]\n",
    "test = df[~mask]\n",
    "\n",
    "#save (one-time) test data for manual testing\n",
    "#test.to_csv('test_data.csv', sep=',', encoding='utf-8')"
   ]
  },
  {
   "cell_type": "code",
   "execution_count": 16,
   "metadata": {
    "collapsed": true
   },
   "outputs": [],
   "source": [
    "# TEST SET\n",
    "X_test = test['Content']\n",
    "y_test = test['Label']"
   ]
  },
  {
   "cell_type": "code",
   "execution_count": 17,
   "metadata": {
    "collapsed": true
   },
   "outputs": [],
   "source": [
    "# TRAIN SET\n",
    "X = train['Content']\n",
    "y = train['Label']"
   ]
  },
  {
   "cell_type": "code",
   "execution_count": 18,
   "metadata": {
    "collapsed": true
   },
   "outputs": [],
   "source": [
    "# SPLIT TRAIN AND VALIDATION SETS\n",
    "VAL_SIZE = 0.2\n",
    "RANDOM_STATE = 0\n",
    "\n",
    "X_train, X_val, y_train, y_val = train_test_split(X, y, test_size=VAL_SIZE, random_state=RANDOM_STATE)"
   ]
  },
  {
   "cell_type": "code",
   "execution_count": 19,
   "metadata": {},
   "outputs": [
    {
     "data": {
      "text/plain": [
       "((43562,), (43562,))"
      ]
     },
     "execution_count": 19,
     "metadata": {},
     "output_type": "execute_result"
    }
   ],
   "source": [
    "X_train.shape, y_train.shape"
   ]
  },
  {
   "cell_type": "code",
   "execution_count": 20,
   "metadata": {},
   "outputs": [
    {
     "data": {
      "text/plain": [
       "((10891,), (10891,))"
      ]
     },
     "execution_count": 20,
     "metadata": {},
     "output_type": "execute_result"
    }
   ],
   "source": [
    "X_val.shape, y_val.shape"
   ]
  },
  {
   "cell_type": "code",
   "execution_count": 21,
   "metadata": {},
   "outputs": [
    {
     "data": {
      "text/plain": [
       "((6089,), (6089,))"
      ]
     },
     "execution_count": 21,
     "metadata": {},
     "output_type": "execute_result"
    }
   ],
   "source": [
    "X_test.shape, y_test.shape"
   ]
  },
  {
   "cell_type": "code",
   "execution_count": 22,
   "metadata": {},
   "outputs": [
    {
     "data": {
      "text/plain": [
       "(43562, 803205)"
      ]
     },
     "execution_count": 22,
     "metadata": {},
     "output_type": "execute_result"
    }
   ],
   "source": [
    "count_vect = CountVectorizer()\n",
    "X_train_counts = count_vect.fit_transform(X_train)\n",
    "X_val_counts = count_vect.transform(X_val)\n",
    "X_test_counts = count_vect.transform(X_test)\n",
    "\n",
    "#Counts\n",
    "X_train_counts.shape"
   ]
  },
  {
   "cell_type": "code",
   "execution_count": 23,
   "metadata": {},
   "outputs": [
    {
     "data": {
      "text/plain": [
       "(43562, 803205)"
      ]
     },
     "execution_count": 23,
     "metadata": {},
     "output_type": "execute_result"
    }
   ],
   "source": [
    "tfidf_transformer = TfidfTransformer()\n",
    "X_train_tfidf = tfidf_transformer.fit_transform(X_train_counts)\n",
    "X_val_tfidf = tfidf_transformer.transform(X_val_counts)\n",
    "X_test_tfidf = tfidf_transformer.transform(X_test_counts)\n",
    "\n",
    "#Counts\n",
    "X_train_tfidf.shape"
   ]
  },
  {
   "cell_type": "markdown",
   "metadata": {},
   "source": [
    "#### Function to Build, Predict and Summarize a Model"
   ]
  },
  {
   "cell_type": "code",
   "execution_count": 24,
   "metadata": {
    "collapsed": true
   },
   "outputs": [],
   "source": [
    "def buildModel(model):\n",
    "    # train\n",
    "    model.fit(X_train_tfidf, y_train)\n",
    "\n",
    "    # predict\n",
    "    y_pred = model.predict(X_val_tfidf)  \n",
    "    \n",
    "    #test_predict\n",
    "    vals = model.predict(count_vect.transform(['cd50e861f48b 6ca2dd348663 d38820625542 f07761418345 5948001254b3 9997460cf372 3f7a70f3474f 6bc122aa4b06 b4f1b88bd3f3 25c57acdf805 54709b24b45f 51fc8b56e14f ff714b9fa7fd 798fe9915030 2d5d7bc2df91 6b583fe13e39 8e93a2273a93 3d877a3bc4f0 ff1c26ea0b6f d9ef68daef4c 9a42ead47d1c 5cde1ed4f9b0 a20e78c41cf9 dec88250479b ecee69844b4e 87b8193a0183 0c470ee92bb5 cd50f04925dd 878460b4304e b4f1b88bd3f3 133d46f7ed38 d38820625542 f682089485c3 96776b42c1d5 51fc8b56e14f 3f7a70f3474f d911e9441d32 c16651ffa1b7 9374c105ef84 f8b0c07e306c d38820625542 e0a08df8ec4c f8dab246f73f 878460b4304e 3f7a70f3474f b4f1b88bd3f3 6ce6cc5a3203 b4f1b88bd3f3 ddf4525e90e3 55b85f1ee56e c63534ebfa82 878460b4304e 9448e1c70dec 1932d6ce3497 8243aca146b2 2ea49cf89745 ff714b9fa7fd e4dad7cb07b6 ff714b9fa7fd 549330b9e320 f7bb594ff117 e63fa74d3c8b df03d288b8b6 cd50e861f48b f7bb594ff117 a1bb6b4223d9 ba02159e05b1 37ac79620fc6 1087de55f102 80948b43ec70 d9fc2cff7e21 abca9d18fae2 6cfef272bdb9 9d83e581af4b cc9e05bc2a86 cbd0a3abbc34 69954839bb65 cd50f04925dd 431392fb12c7 ecee69844b4e 36e7aa72ffe1 0b3f3d23bd37 8cb71bb0ee27 ff714b9fa7fd a87473e878c1 a1bb6b4223d9 f7bb594ff117 dff2d27792d5 ff714b9fa7fd 83f8b75d8fe3 22f8fa324aed 58b1c79289d7 5948001254b3 9997460cf372 da9ad7407226 a263b63bc282 011113964d37 da9ad7407226 b73e657498f2 17c11ac4749f ee8125ecd585 0cbca93be301 ea95010f229b b13cff832743 cf4fc632eed2 b4f1b88bd3f3 6b343f522f78 4ea48dbbe14e 5f9c2ac954be 61e151399c9d 7b477e3d63d2 cdc95c39cac8 f07761418345 22fa1184be26 d9ef68daef4c d944e076fa92 f7ae6f8257da 87b8193a0183 11269ab19093 6cfef272bdb9 8ebb4fffd292 d38820625542 6469b7eeb029 98b0900e06f4 1b6c95839a6d 44c1e122f3f0 d38820625542 cfd22ba194a9 828e5c947b2b 7860028b1d17 6dbd5ceef3d1 f60bd1bc4fe5 05b8cb495fc2 9d83e581af4b d38820625542 7d9e333a86da 6cfef272bdb9 9d83e581af4b 133d46f7ed38 1087de55f102 ef4ba44cdf5f b02eb907dd1a 35991d8609e2 29f6e5802d4f 133d46f7ed38 874b796362b6 e943e5e5b779 4d28878de1db d1c3631d621b 7d9e333a86da d38820625542 133d46f7ed38 1b7657be8986 1ab34730c1e0 f7bb594ff117 ff714b9fa7fd 8502c0087099 58b1c79289d7 cd50f04925dd ecee69844b4e 431392fb12c7 1b3e5dc39eb9 586242498a88 5680bf4cc121 69c87281a156 c8207fafe699 cd50f04925dd ff714b9fa7fd 8502c0087099 ecee69844b4e 8cb71bb0ee27 386e8b20726f a1bb6b4223d9 6bf9c0cb01b4 142d16db61dd 60d18132df81 dab42b5e7528 259218088611 135307dba198 b73e657498f2 26f7353edc2e cd50f04925dd d38820625542 133d46f7ed38 f7bb594ff117 ecee69844b4e 1ab34730c1e0 e943e5e5b779 a87473e878c1 57d5616683d8 54fb27d07530 afab4a5c0f58 83da9eb0a417 619c02c2888a 11269ab19093 fb82195dee42 b7a0f56f6ce8 2d5d7bc2df91 6b583fe13e39 798fe9915030 586242498a88 0662d94b3d3b b7ab56536ec4 f54a40468e55 14bc74b659ac 7498a1e9d9d7 ac624879ac84 6bc122aa4b06 868759570f1a 8d21095e8690 4cc4edfe0691 a28d2053ff0a abca9d18fae2 586242498a88 1446e5509927 7ec02e30a5b3 00c51a5afedc b9699ce57810 ba02159e05b1 f0666bdbc8a5 e7e059c82399 6bc963b8a2b5 6d3eb69fcdd2 ae28415398b8 25c57acdf805 bce6be3921fd 77af4ed951a7 6dcc75eaf823 f9b20c280980 1b6d0614f2c7 3486e5fe0d73 4b62ac958854 1f72b4630c4a 05c859b5a17c b2f316884260 93c0dec8ced7 fc25f79e6d18 c1a112035695 1d8b1029729c c33b5c3d0449 a4ffd27183aa bf064c332aa1 62a63953f966 034e2d7f187e 0562c756a2f2 40cb5e209b92 1b6d0614f2c7 ce1f034abb5d 7420f0cec354 e943e5e5b779 b208ae1e8232 f8b0c07e306c 0072efdaa34a 98d0d51b397c fbb5efbcc5b3 4b62ac958854 e170f65889d6 33de92ab3817 4129ea7e3fb2 0c4ce226d9fe d38820625542 ba02159e05b1 cde4f1b2a877 6ce6cc5a3203 62189de225a6 f95d0bea231b 6ca2dd348663 63fa15c4caa9 c9a53ea6e219 10e45001c2f2 094453b4e4ae 586242498a88 586242498a88 9690f01b4172 818a7ff3bf29 578830762b27 cc429363fb23 e27acd17313e eeb86a6a04e4 8d21095e8690 b73e657498f2 be6b97be2959 59c7f349c89a 93790ade6682 a65259ff0092 4357c81e10c1 a31962fbd5f3 0562c756a2f2 e259a56993f4 1b6d0614f2c7 b9699ce57810 eeb86a6a04e4 b61f1af56200 036087ac04f9 25c57acdf805 b136f6349cf3 586242498a88 54709b24b45f 2d5d7bc2df91 6b583fe13e39 798fe9915030 8e93a2273a93 1c303d15eb65 bce6be3921fd 798eee3a8bec 7d41ca882f26 93c988b67c47 2ef7c27a5df4 fea862065b74 0c222c6660f2 34186de5c52d 25c57acdf805 bb0e7ae8fdbf dafbb201715e fb2cd24a447a 6bf9c0cb01b4 0562c756a2f2 ba02159e05b1 6b304aabdcee 6d25574664d2 9cdf4a63deb0 b59e343416f7 26f7353edc2e 133d46f7ed38 9bc96abb24e5 eeb86a6a04e4 f95d0bea231b 74c7b4b972ff 10e45001c2f2 10e45001c2f2 6ce6cc5a3203 10e45001c2f2 b73e657498f2 f95d0bea231b d19b1c129f40 25c57acdf805 6101ed18e42f']))\n",
    "    printVals('test_result', vals)\n",
    "    printVals('test_result', id_to_category[int(vals)])\n",
    "    print('\\n')\n",
    "    \n",
    "    # summarize the model performance\n",
    "    printVals(\"Accuracy: \", str(metrics.accuracy_score(y_val, y_pred)))\n",
    "    print('\\n')\n",
    "    printVals(\"Model Classification Report: \", \"\\n\"+str(metrics.classification_report(y_val, y_pred)))\n",
    "    print('\\n')\n",
    "    printVals(\"Confusion Matrix: \", \"\\n\"+str(metrics.confusion_matrix(y_val, y_pred))) "
   ]
  },
  {
   "cell_type": "markdown",
   "metadata": {},
   "source": [
    "<h5><font face=\"Georgia\" color=\"#00E5EE\">Logistic Regression Model</font></h5>"
   ]
  },
  {
   "cell_type": "code",
   "execution_count": 25,
   "metadata": {},
   "outputs": [
    {
     "name": "stdout",
     "output_type": "stream",
     "text": [
      "\u001b[34mtest_result\u001b[0m \u001b[32m[4]\u001b[0m\n",
      "\u001b[34mtest_result\u001b[0m \u001b[32mCANCELLATION NOTICE\u001b[0m\n",
      "\n",
      "\n",
      "\u001b[34mAccuracy: \u001b[0m \u001b[32m0.8610779542741713\u001b[0m\n",
      "\n",
      "\n",
      "\u001b[34mModel Classification Report: \u001b[0m \u001b[32m\n",
      "             precision    recall  f1-score   support\n",
      "\n",
      "          0       0.91      0.89      0.90       886\n",
      "          1       0.99      0.90      0.94       146\n",
      "          2       0.88      0.90      0.89      3258\n",
      "          3       0.82      0.84      0.83      1885\n",
      "          4       0.84      0.86      0.85      1754\n",
      "          5       0.51      0.13      0.21       156\n",
      "          6       0.86      0.82      0.84       156\n",
      "          7       0.92      0.84      0.88       118\n",
      "          8       0.82      0.88      0.85      1514\n",
      "          9       0.93      0.94      0.93       756\n",
      "         10       0.85      0.62      0.71       136\n",
      "         11       0.78      0.45      0.57        40\n",
      "         12       0.67      0.45      0.54        40\n",
      "         13       0.50      0.02      0.04        46\n",
      "\n",
      "avg / total       0.86      0.86      0.86     10891\n",
      "\u001b[0m\n",
      "\n",
      "\n",
      "\u001b[34mConfusion Matrix: \u001b[0m \u001b[32m\n",
      "[[ 791    0    0    8   85    0    1    0    1    0    0    0    0    0]\n",
      " [   0  131    4    6    0    0    0    0    5    0    0    0    0    0]\n",
      " [   1    0 2948   81  140    2    4    0   69    7    3    2    0    1]\n",
      " [  17    0  105 1580   22    3   12    2  117   18    5    1    3    0]\n",
      " [  51    1  115   30 1513    4    0    4    7   25    2    2    0    0]\n",
      " [   5    0   33   29    3   20    1    0   63    1    0    0    1    0]\n",
      " [   0    0    0   22    2    0  128    1    1    0    2    0    0    0]\n",
      " [   1    0    1    9    6    0    0   99    0    0    2    0    0    0]\n",
      " [   1    0   41  114    5    8    2    0 1336    2    0    0    5    0]\n",
      " [   2    0   11   15   14    1    0    1    1  711    0    0    0    0]\n",
      " [   0    0   38    8    1    1    0    1    0    3   84    0    0    0]\n",
      " [   0    0    5    2   13    0    0    0    1    0    1   18    0    0]\n",
      " [   0    0    3    6    0    0    0    0   13    0    0    0   18    0]\n",
      " [   0    0   31    7    0    0    0    0    7    0    0    0    0    1]]\u001b[0m\n"
     ]
    }
   ],
   "source": [
    "buildModel(LogisticRegression(penalty='l1'))"
   ]
  },
  {
   "cell_type": "markdown",
   "metadata": {},
   "source": [
    "<h5><font face=\"Georgia\" color=\"#00E5EE\">Saving Model to Run Future Predictions (API creation)</font></h5>"
   ]
  },
  {
   "cell_type": "code",
   "execution_count": 26,
   "metadata": {},
   "outputs": [],
   "source": [
    "#create independent model to be saved\n",
    "modelSave = LogisticRegression(penalty='l1').fit(X_train_tfidf, y_train)\n",
    "\n",
    "#Save model and vocabulary (Count Vectorizer needs the appropriate vocab type as ref)\n",
    "fileN = open('LRmodel.pckl', 'wb')\n",
    "fileN2 = open('vocal.pckl', 'wb')\n",
    "pkl.dump(modelSave, fileN)\n",
    "pkl.dump(count_vect.vocabulary_, fileN2)\n",
    "fileN.close()\n",
    "fileN2.close()"
   ]
  },
  {
   "cell_type": "code",
   "execution_count": 27,
   "metadata": {},
   "outputs": [
    {
     "name": "stdout",
     "output_type": "stream",
     "text": [
      "\u001b[34mtest_result\u001b[0m \u001b[32mCANCELLATION NOTICE\u001b[0m\n"
     ]
    }
   ],
   "source": [
    "#test saved model\n",
    "loaded_model = pkl.load(open('LRmodel.pckl', 'rb'))\n",
    "\n",
    "#create a test case data form the test data set chunk\n",
    "dattest = 'cd50e861f48b 6ca2dd348663 d38820625542 f07761418345 5948001254b3 9997460cf372 3f7a70f3474f 6bc122aa4b06 b4f1b88bd3f3 25c57acdf805 54709b24b45f 51fc8b56e14f ff714b9fa7fd 798fe9915030 2d5d7bc2df91 6b583fe13e39 8e93a2273a93 3d877a3bc4f0 ff1c26ea0b6f d9ef68daef4c 9a42ead47d1c 5cde1ed4f9b0 a20e78c41cf9 dec88250479b ecee69844b4e 87b8193a0183 0c470ee92bb5 cd50f04925dd 878460b4304e b4f1b88bd3f3 133d46f7ed38 d38820625542 f682089485c3 96776b42c1d5 51fc8b56e14f 3f7a70f3474f d911e9441d32 c16651ffa1b7 9374c105ef84 f8b0c07e306c d38820625542 e0a08df8ec4c f8dab246f73f 878460b4304e 3f7a70f3474f b4f1b88bd3f3 6ce6cc5a3203 b4f1b88bd3f3 ddf4525e90e3 55b85f1ee56e c63534ebfa82 878460b4304e 9448e1c70dec 1932d6ce3497 8243aca146b2 2ea49cf89745 ff714b9fa7fd e4dad7cb07b6 ff714b9fa7fd 549330b9e320 f7bb594ff117 e63fa74d3c8b df03d288b8b6 cd50e861f48b f7bb594ff117 a1bb6b4223d9 ba02159e05b1 37ac79620fc6 1087de55f102 80948b43ec70 d9fc2cff7e21 abca9d18fae2 6cfef272bdb9 9d83e581af4b cc9e05bc2a86 cbd0a3abbc34 69954839bb65 cd50f04925dd 431392fb12c7 ecee69844b4e 36e7aa72ffe1 0b3f3d23bd37 8cb71bb0ee27 ff714b9fa7fd a87473e878c1 a1bb6b4223d9 f7bb594ff117 dff2d27792d5 ff714b9fa7fd 83f8b75d8fe3 22f8fa324aed 58b1c79289d7 5948001254b3 9997460cf372 da9ad7407226 a263b63bc282 011113964d37 da9ad7407226 b73e657498f2 17c11ac4749f ee8125ecd585 0cbca93be301 ea95010f229b b13cff832743 cf4fc632eed2 b4f1b88bd3f3 6b343f522f78 4ea48dbbe14e 5f9c2ac954be 61e151399c9d 7b477e3d63d2 cdc95c39cac8 f07761418345 22fa1184be26 d9ef68daef4c d944e076fa92 f7ae6f8257da 87b8193a0183 11269ab19093 6cfef272bdb9 8ebb4fffd292 d38820625542 6469b7eeb029 98b0900e06f4 1b6c95839a6d 44c1e122f3f0 d38820625542 cfd22ba194a9 828e5c947b2b 7860028b1d17 6dbd5ceef3d1 f60bd1bc4fe5 05b8cb495fc2 9d83e581af4b d38820625542 7d9e333a86da 6cfef272bdb9 9d83e581af4b 133d46f7ed38 1087de55f102 ef4ba44cdf5f b02eb907dd1a 35991d8609e2 29f6e5802d4f 133d46f7ed38 874b796362b6 e943e5e5b779 4d28878de1db d1c3631d621b 7d9e333a86da d38820625542 133d46f7ed38 1b7657be8986 1ab34730c1e0 f7bb594ff117 ff714b9fa7fd 8502c0087099 58b1c79289d7 cd50f04925dd ecee69844b4e 431392fb12c7 1b3e5dc39eb9 586242498a88 5680bf4cc121 69c87281a156 c8207fafe699 cd50f04925dd ff714b9fa7fd 8502c0087099 ecee69844b4e 8cb71bb0ee27 386e8b20726f a1bb6b4223d9 6bf9c0cb01b4 142d16db61dd 60d18132df81 dab42b5e7528 259218088611 135307dba198 b73e657498f2 26f7353edc2e cd50f04925dd d38820625542 133d46f7ed38 f7bb594ff117 ecee69844b4e 1ab34730c1e0 e943e5e5b779 a87473e878c1 57d5616683d8 54fb27d07530 afab4a5c0f58 83da9eb0a417 619c02c2888a 11269ab19093 fb82195dee42 b7a0f56f6ce8 2d5d7bc2df91 6b583fe13e39 798fe9915030 586242498a88 0662d94b3d3b b7ab56536ec4 f54a40468e55 14bc74b659ac 7498a1e9d9d7 ac624879ac84 6bc122aa4b06 868759570f1a 8d21095e8690 4cc4edfe0691 a28d2053ff0a abca9d18fae2 586242498a88 1446e5509927 7ec02e30a5b3 00c51a5afedc b9699ce57810 ba02159e05b1 f0666bdbc8a5 e7e059c82399 6bc963b8a2b5 6d3eb69fcdd2 ae28415398b8 25c57acdf805 bce6be3921fd 77af4ed951a7 6dcc75eaf823 f9b20c280980 1b6d0614f2c7 3486e5fe0d73 4b62ac958854 1f72b4630c4a 05c859b5a17c b2f316884260 93c0dec8ced7 fc25f79e6d18 c1a112035695 1d8b1029729c c33b5c3d0449 a4ffd27183aa bf064c332aa1 62a63953f966 034e2d7f187e 0562c756a2f2 40cb5e209b92 1b6d0614f2c7 ce1f034abb5d 7420f0cec354 e943e5e5b779 b208ae1e8232 f8b0c07e306c 0072efdaa34a 98d0d51b397c fbb5efbcc5b3 4b62ac958854 e170f65889d6 33de92ab3817 4129ea7e3fb2 0c4ce226d9fe d38820625542 ba02159e05b1 cde4f1b2a877 6ce6cc5a3203 62189de225a6 f95d0bea231b 6ca2dd348663 63fa15c4caa9 c9a53ea6e219 10e45001c2f2 094453b4e4ae 586242498a88 586242498a88 9690f01b4172 818a7ff3bf29 578830762b27 cc429363fb23 e27acd17313e eeb86a6a04e4 8d21095e8690 b73e657498f2 be6b97be2959 59c7f349c89a 93790ade6682 a65259ff0092 4357c81e10c1 a31962fbd5f3 0562c756a2f2 e259a56993f4 1b6d0614f2c7 b9699ce57810 eeb86a6a04e4 b61f1af56200 036087ac04f9 25c57acdf805 b136f6349cf3 586242498a88 54709b24b45f 2d5d7bc2df91 6b583fe13e39 798fe9915030 8e93a2273a93 1c303d15eb65 bce6be3921fd 798eee3a8bec 7d41ca882f26 93c988b67c47 2ef7c27a5df4 fea862065b74 0c222c6660f2 34186de5c52d 25c57acdf805 bb0e7ae8fdbf dafbb201715e fb2cd24a447a 6bf9c0cb01b4 0562c756a2f2 ba02159e05b1 6b304aabdcee 6d25574664d2 9cdf4a63deb0 b59e343416f7 26f7353edc2e 133d46f7ed38 9bc96abb24e5 eeb86a6a04e4 f95d0bea231b 74c7b4b972ff 10e45001c2f2 10e45001c2f2 6ce6cc5a3203 10e45001c2f2 b73e657498f2 f95d0bea231b d19b1c129f40 25c57acdf805 6101ed18e42f'\n",
    "tmep = count_vect.transform([dattest])\n",
    "\n",
    "#load saved model form files (local)\n",
    "vals = loaded_model.predict(tmep)\n",
    "x = count_vect.vocabulary_\n",
    "printVals('test_result', id_to_category[int(vals)])"
   ]
  }
 ],
 "metadata": {
  "kernelspec": {
   "display_name": "Python 3",
   "language": "python",
   "name": "python3"
  },
  "language_info": {
   "codemirror_mode": {
    "name": "ipython",
    "version": 3
   },
   "file_extension": ".py",
   "mimetype": "text/x-python",
   "name": "python",
   "nbconvert_exporter": "python",
   "pygments_lexer": "ipython3",
   "version": "3.6.2"
  }
 },
 "nbformat": 4,
 "nbformat_minor": 2
}
